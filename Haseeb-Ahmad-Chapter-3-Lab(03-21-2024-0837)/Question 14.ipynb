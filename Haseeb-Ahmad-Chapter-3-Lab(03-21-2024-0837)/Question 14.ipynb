{
 "cells": [
  {
   "cell_type": "code",
   "execution_count": 37,
   "id": "d0ee0b4e-bdc1-4df4-8bde-24d6e9d0625d",
   "metadata": {},
   "outputs": [],
   "source": [
    "import numpy as np\n",
    "import pandas as pd\n",
    "from matplotlib.pyplot import subplots\n",
    "import statsmodels.api as sm\n",
    "from statsmodels.stats.outliers_influence \\\n",
    "import variance_inflation_factor as VIF\n",
    "from statsmodels.stats.anova import anova_lm\n",
    "from ISLP import load_data\n",
    "from ISLP.models import (ModelSpec as MS,\n",
    "summarize,poly)"
   ]
  },
  {
   "cell_type": "markdown",
   "id": "5e70e100-71b5-4413-bc36-cd820ccd4c47",
   "metadata": {},
   "source": [
    "## Question 14a"
   ]
  },
  {
   "cell_type": "code",
   "execution_count": 38,
   "id": "b15cc364-db3c-4f6f-82e5-31e69c69443d",
   "metadata": {},
   "outputs": [],
   "source": [
    "#given\n",
    "rng = np.random.default_rng(10)\n",
    "x1 = rng.uniform(0, 1, size=100)\n",
    "x2 = 0.5 * x1 + rng.normal(size=100) / 10\n",
    "#linear regression farmula\n",
    "y = 2 + 2 * x1 + 0.3 * x2 + rng.normal(size=100)\n"
   ]
  },
  {
   "cell_type": "markdown",
   "id": "ea0a4d22-e5c8-425d-a4c3-1978bcee2ba4",
   "metadata": {},
   "source": [
    "y = 2 + 2 * x1 + 0.3 * x2 + rng.normal(size=100)\n",
    "here you can see\n",
    "Y=B0+B1X1+B2X2+Error\n",
    "Coefficient of B0 ,B1 and B2 are 2, 2 and 0.3"
   ]
  },
  {
   "cell_type": "markdown",
   "id": "f176116a-2a12-491a-b7e3-c8908ffcc1c9",
   "metadata": {},
   "source": [
    "## Question 14 b"
   ]
  },
  {
   "cell_type": "code",
   "execution_count": 39,
   "id": "e62af26f-d54e-4444-a0de-670dae53ee00",
   "metadata": {},
   "outputs": [
    {
     "data": {
      "text/plain": [
       "Text(0, 0.5, 'X2')"
      ]
     },
     "execution_count": 39,
     "metadata": {},
     "output_type": "execute_result"
    },
    {
     "data": {
      "image/png": "[encoded data removed]",
      "text/plain": [
       "<Figure size 640x480 with 1 Axes>"
      ]
     },
     "metadata": {},
     "output_type": "display_data"
    }
   ],
   "source": [
    "df=pd.DataFrame({\"x1\":x1,\"x2\":x2})\n",
    "ax = df.plot.scatter('x1', 'x2')\n",
    "ax.set_xlabel('X1')\n",
    "ax.set_ylabel('X2')\n",
    "\n"
   ]
  },
  {
   "cell_type": "markdown",
   "id": "d88659aa-c2e4-419d-996f-47e84abefbfb",
   "metadata": {},
   "source": [
    "Finding correlation of x1 and x2"
   ]
  },
  {
   "cell_type": "code",
   "execution_count": 53,
   "id": "009eab75-b4cd-4dcc-a51f-3422267b8a84",
   "metadata": {},
   "outputs": [
    {
     "data": {
      "text/plain": [
       "0.7723244976913541"
      ]
     },
     "execution_count": 53,
     "metadata": {},
     "output_type": "execute_result"
    }
   ],
   "source": [
    "correlation=(df['x2']).corr(df['x1'])\n",
    "correlation"
   ]
  },
  {
   "cell_type": "markdown",
   "id": "541dbe64-2a4e-452e-9615-fb6d623acc37",
   "metadata": {},
   "source": [
    "Both variable correlate to each other"
   ]
  },
  {
   "cell_type": "markdown",
   "id": "ffb052bc-829b-4125-b472-5d4aaebe7725",
   "metadata": {},
   "source": [
    "## Question 14c"
   ]
  },
  {
   "cell_type": "code",
   "execution_count": 41,
   "id": "8143e9c5-c994-4e2e-82b4-fcb0b26ad885",
   "metadata": {},
   "outputs": [],
   "source": [
    "design=MS([\"x1\",\"x2\"])\n",
    "X =design.fit_transform(df)\n",
    "\n",
    "#model fitting\n",
    "model = sm.OLS(y, X)\n",
    "results = model.fit()"
   ]
  },
  {
   "cell_type": "code",
   "execution_count": 42,
   "id": "38ded0b9-1264-4b61-b27b-7e7966685d1d",
   "metadata": {},
   "outputs": [
    {
     "data": {
      "text/html": [
       "<table class=\"simpletable\">\n",
       "<caption>OLS Regression Results</caption>\n",
       "<tr>\n",
       "  <th>Dep. Variable:</th>            <td>y</td>        <th>  R-squared:         </th> <td>   0.291</td>\n",
       "</tr>\n",
       "<tr>\n",
       "  <th>Model:</th>                   <td>OLS</td>       <th>  Adj. R-squared:    </th> <td>   0.276</td>\n",
       "</tr>\n",
       "<tr>\n",
       "  <th>Method:</th>             <td>Least Squares</td>  <th>  F-statistic:       </th> <td>   19.89</td>\n",
       "</tr>\n",
       "<tr>\n",
       "  <th>Date:</th>             <td>Wed, 20 Mar 2024</td> <th>  Prob (F-statistic):</th> <td>5.76e-08</td>\n",
       "</tr>\n",
       "<tr>\n",
       "  <th>Time:</th>                 <td>10:02:56</td>     <th>  Log-Likelihood:    </th> <td> -130.62</td>\n",
       "</tr>\n",
       "<tr>\n",
       "  <th>No. Observations:</th>      <td>   100</td>      <th>  AIC:               </th> <td>   267.2</td>\n",
       "</tr>\n",
       "<tr>\n",
       "  <th>Df Residuals:</th>          <td>    97</td>      <th>  BIC:               </th> <td>   275.1</td>\n",
       "</tr>\n",
       "<tr>\n",
       "  <th>Df Model:</th>              <td>     2</td>      <th>                     </th>     <td> </td>   \n",
       "</tr>\n",
       "<tr>\n",
       "  <th>Covariance Type:</th>      <td>nonrobust</td>    <th>                     </th>     <td> </td>   \n",
       "</tr>\n",
       "</table>\n",
       "<table class=\"simpletable\">\n",
       "<tr>\n",
       "      <td></td>         <th>coef</th>     <th>std err</th>      <th>t</th>      <th>P>|t|</th>  <th>[0.025</th>    <th>0.975]</th>  \n",
       "</tr>\n",
       "<tr>\n",
       "  <th>intercept</th> <td>    1.9579</td> <td>    0.190</td> <td>   10.319</td> <td> 0.000</td> <td>    1.581</td> <td>    2.334</td>\n",
       "</tr>\n",
       "<tr>\n",
       "  <th>x1</th>        <td>    1.6154</td> <td>    0.527</td> <td>    3.065</td> <td> 0.003</td> <td>    0.569</td> <td>    2.661</td>\n",
       "</tr>\n",
       "<tr>\n",
       "  <th>x2</th>        <td>    0.9428</td> <td>    0.831</td> <td>    1.134</td> <td> 0.259</td> <td>   -0.707</td> <td>    2.592</td>\n",
       "</tr>\n",
       "</table>\n",
       "<table class=\"simpletable\">\n",
       "<tr>\n",
       "  <th>Omnibus:</th>       <td> 0.051</td> <th>  Durbin-Watson:     </th> <td>   1.964</td>\n",
       "</tr>\n",
       "<tr>\n",
       "  <th>Prob(Omnibus):</th> <td> 0.975</td> <th>  Jarque-Bera (JB):  </th> <td>   0.041</td>\n",
       "</tr>\n",
       "<tr>\n",
       "  <th>Skew:</th>          <td>-0.036</td> <th>  Prob(JB):          </th> <td>   0.979</td>\n",
       "</tr>\n",
       "<tr>\n",
       "  <th>Kurtosis:</th>      <td> 2.931</td> <th>  Cond. No.          </th> <td>    11.9</td>\n",
       "</tr>\n",
       "</table><br/><br/>Notes:<br/>[1] Standard Errors assume that the covariance matrix of the errors is correctly specified."
      ],
      "text/latex": [
       "\\begin{center}\n",
       "\\begin{tabular}{lclc}\n",
       "\\toprule\n",
       "\\textbf{Dep. Variable:}    &        y         & \\textbf{  R-squared:         } &     0.291   \\\\\n",
       "\\textbf{Model:}            &       OLS        & \\textbf{  Adj. R-squared:    } &     0.276   \\\\\n",
       "\\textbf{Method:}           &  Least Squares   & \\textbf{  F-statistic:       } &     19.89   \\\\\n",
       "\\textbf{Date:}             & Wed, 20 Mar 2024 & \\textbf{  Prob (F-statistic):} &  5.76e-08   \\\\\n",
       "\\textbf{Time:}             &     10:02:56     & \\textbf{  Log-Likelihood:    } &   -130.62   \\\\\n",
       "\\textbf{No. Observations:} &         100      & \\textbf{  AIC:               } &     267.2   \\\\\n",
       "\\textbf{Df Residuals:}     &          97      & \\textbf{  BIC:               } &     275.1   \\\\\n",
       "\\textbf{Df Model:}         &           2      & \\textbf{                     } &             \\\\\n",
       "\\textbf{Covariance Type:}  &    nonrobust     & \\textbf{                     } &             \\\\\n",
       "\\bottomrule\n",
       "\\end{tabular}\n",
       "\\begin{tabular}{lcccccc}\n",
       "                   & \\textbf{coef} & \\textbf{std err} & \\textbf{t} & \\textbf{P$> |$t$|$} & \\textbf{[0.025} & \\textbf{0.975]}  \\\\\n",
       "\\midrule\n",
       "\\textbf{intercept} &       1.9579  &        0.190     &    10.319  &         0.000        &        1.581    &        2.334     \\\\\n",
       "\\textbf{x1}        &       1.6154  &        0.527     &     3.065  &         0.003        &        0.569    &        2.661     \\\\\n",
       "\\textbf{x2}        &       0.9428  &        0.831     &     1.134  &         0.259        &       -0.707    &        2.592     \\\\\n",
       "\\bottomrule\n",
       "\\end{tabular}\n",
       "\\begin{tabular}{lclc}\n",
       "\\textbf{Omnibus:}       &  0.051 & \\textbf{  Durbin-Watson:     } &    1.964  \\\\\n",
       "\\textbf{Prob(Omnibus):} &  0.975 & \\textbf{  Jarque-Bera (JB):  } &    0.041  \\\\\n",
       "\\textbf{Skew:}          & -0.036 & \\textbf{  Prob(JB):          } &    0.979  \\\\\n",
       "\\textbf{Kurtosis:}      &  2.931 & \\textbf{  Cond. No.          } &     11.9  \\\\\n",
       "\\bottomrule\n",
       "\\end{tabular}\n",
       "%\\caption{OLS Regression Results}\n",
       "\\end{center}\n",
       "\n",
       "Notes: \\newline\n",
       " [1] Standard Errors assume that the covariance matrix of the errors is correctly specified."
      ],
      "text/plain": [
       "<class 'statsmodels.iolib.summary.Summary'>\n",
       "\"\"\"\n",
       "                            OLS Regression Results                            \n",
       "==============================================================================\n",
       "Dep. Variable:                      y   R-squared:                       0.291\n",
       "Model:                            OLS   Adj. R-squared:                  0.276\n",
       "Method:                 Least Squares   F-statistic:                     19.89\n",
       "Date:                Wed, 20 Mar 2024   Prob (F-statistic):           5.76e-08\n",
       "Time:                        10:02:56   Log-Likelihood:                -130.62\n",
       "No. Observations:                 100   AIC:                             267.2\n",
       "Df Residuals:                      97   BIC:                             275.1\n",
       "Df Model:                           2                                         \n",
       "Covariance Type:            nonrobust                                         \n",
       "==============================================================================\n",
       "                 coef    std err          t      P>|t|      [0.025      0.975]\n",
       "------------------------------------------------------------------------------\n",
       "intercept      1.9579      0.190     10.319      0.000       1.581       2.334\n",
       "x1             1.6154      0.527      3.065      0.003       0.569       2.661\n",
       "x2             0.9428      0.831      1.134      0.259      -0.707       2.592\n",
       "==============================================================================\n",
       "Omnibus:                        0.051   Durbin-Watson:                   1.964\n",
       "Prob(Omnibus):                  0.975   Jarque-Bera (JB):                0.041\n",
       "Skew:                          -0.036   Prob(JB):                        0.979\n",
       "Kurtosis:                       2.931   Cond. No.                         11.9\n",
       "==============================================================================\n",
       "\n",
       "Notes:\n",
       "[1] Standard Errors assume that the covariance matrix of the errors is correctly specified.\n",
       "\"\"\""
      ]
     },
     "execution_count": 42,
     "metadata": {},
     "output_type": "execute_result"
    }
   ],
   "source": [
    "results.summary()"
   ]
  },
  {
   "cell_type": "markdown",
   "id": "748dbfeb-97a9-4cd7-b5b2-97d129c2398c",
   "metadata": {},
   "source": [
    "The estimated and true results are having some little differences .They are not exactly the same \n",
    "B1(estimated)=1.6154\n",
    "B2(estimated)=0.9428\n",
    "Hence B1(estimated) and B2(estimated) are not 0 so we reject null hypothesis\n"
   ]
  },
  {
   "cell_type": "markdown",
   "id": "16395d4d-8861-4f7a-9280-41a4de60eb05",
   "metadata": {},
   "source": [
    "## Question 14d"
   ]
  },
  {
   "cell_type": "code",
   "execution_count": 43,
   "id": "68d97343-b124-46de-b878-f5ea2bafba1c",
   "metadata": {},
   "outputs": [
    {
     "data": {
      "text/html": [
       "<table class=\"simpletable\">\n",
       "<caption>OLS Regression Results</caption>\n",
       "<tr>\n",
       "  <th>Dep. Variable:</th>            <td>y</td>        <th>  R-squared:         </th> <td>   0.281</td>\n",
       "</tr>\n",
       "<tr>\n",
       "  <th>Model:</th>                   <td>OLS</td>       <th>  Adj. R-squared:    </th> <td>   0.274</td>\n",
       "</tr>\n",
       "<tr>\n",
       "  <th>Method:</th>             <td>Least Squares</td>  <th>  F-statistic:       </th> <td>   38.39</td>\n",
       "</tr>\n",
       "<tr>\n",
       "  <th>Date:</th>             <td>Wed, 20 Mar 2024</td> <th>  Prob (F-statistic):</th> <td>1.37e-08</td>\n",
       "</tr>\n",
       "<tr>\n",
       "  <th>Time:</th>                 <td>10:02:56</td>     <th>  Log-Likelihood:    </th> <td> -131.28</td>\n",
       "</tr>\n",
       "<tr>\n",
       "  <th>No. Observations:</th>      <td>   100</td>      <th>  AIC:               </th> <td>   266.6</td>\n",
       "</tr>\n",
       "<tr>\n",
       "  <th>Df Residuals:</th>          <td>    98</td>      <th>  BIC:               </th> <td>   271.8</td>\n",
       "</tr>\n",
       "<tr>\n",
       "  <th>Df Model:</th>              <td>     1</td>      <th>                     </th>     <td> </td>   \n",
       "</tr>\n",
       "<tr>\n",
       "  <th>Covariance Type:</th>      <td>nonrobust</td>    <th>                     </th>     <td> </td>   \n",
       "</tr>\n",
       "</table>\n",
       "<table class=\"simpletable\">\n",
       "<tr>\n",
       "      <td></td>         <th>coef</th>     <th>std err</th>      <th>t</th>      <th>P>|t|</th>  <th>[0.025</th>    <th>0.975]</th>  \n",
       "</tr>\n",
       "<tr>\n",
       "  <th>intercept</th> <td>    1.9371</td> <td>    0.189</td> <td>   10.242</td> <td> 0.000</td> <td>    1.562</td> <td>    2.312</td>\n",
       "</tr>\n",
       "<tr>\n",
       "  <th>x1</th>        <td>    2.0771</td> <td>    0.335</td> <td>    6.196</td> <td> 0.000</td> <td>    1.412</td> <td>    2.742</td>\n",
       "</tr>\n",
       "</table>\n",
       "<table class=\"simpletable\">\n",
       "<tr>\n",
       "  <th>Omnibus:</th>       <td> 0.204</td> <th>  Durbin-Watson:     </th> <td>   1.931</td>\n",
       "</tr>\n",
       "<tr>\n",
       "  <th>Prob(Omnibus):</th> <td> 0.903</td> <th>  Jarque-Bera (JB):  </th> <td>   0.042</td>\n",
       "</tr>\n",
       "<tr>\n",
       "  <th>Skew:</th>          <td>-0.046</td> <th>  Prob(JB):          </th> <td>   0.979</td>\n",
       "</tr>\n",
       "<tr>\n",
       "  <th>Kurtosis:</th>      <td> 3.038</td> <th>  Cond. No.          </th> <td>    4.65</td>\n",
       "</tr>\n",
       "</table><br/><br/>Notes:<br/>[1] Standard Errors assume that the covariance matrix of the errors is correctly specified."
      ],
      "text/latex": [
       "\\begin{center}\n",
       "\\begin{tabular}{lclc}\n",
       "\\toprule\n",
       "\\textbf{Dep. Variable:}    &        y         & \\textbf{  R-squared:         } &     0.281   \\\\\n",
       "\\textbf{Model:}            &       OLS        & \\textbf{  Adj. R-squared:    } &     0.274   \\\\\n",
       "\\textbf{Method:}           &  Least Squares   & \\textbf{  F-statistic:       } &     38.39   \\\\\n",
       "\\textbf{Date:}             & Wed, 20 Mar 2024 & \\textbf{  Prob (F-statistic):} &  1.37e-08   \\\\\n",
       "\\textbf{Time:}             &     10:02:56     & \\textbf{  Log-Likelihood:    } &   -131.28   \\\\\n",
       "\\textbf{No. Observations:} &         100      & \\textbf{  AIC:               } &     266.6   \\\\\n",
       "\\textbf{Df Residuals:}     &          98      & \\textbf{  BIC:               } &     271.8   \\\\\n",
       "\\textbf{Df Model:}         &           1      & \\textbf{                     } &             \\\\\n",
       "\\textbf{Covariance Type:}  &    nonrobust     & \\textbf{                     } &             \\\\\n",
       "\\bottomrule\n",
       "\\end{tabular}\n",
       "\\begin{tabular}{lcccccc}\n",
       "                   & \\textbf{coef} & \\textbf{std err} & \\textbf{t} & \\textbf{P$> |$t$|$} & \\textbf{[0.025} & \\textbf{0.975]}  \\\\\n",
       "\\midrule\n",
       "\\textbf{intercept} &       1.9371  &        0.189     &    10.242  &         0.000        &        1.562    &        2.312     \\\\\n",
       "\\textbf{x1}        &       2.0771  &        0.335     &     6.196  &         0.000        &        1.412    &        2.742     \\\\\n",
       "\\bottomrule\n",
       "\\end{tabular}\n",
       "\\begin{tabular}{lclc}\n",
       "\\textbf{Omnibus:}       &  0.204 & \\textbf{  Durbin-Watson:     } &    1.931  \\\\\n",
       "\\textbf{Prob(Omnibus):} &  0.903 & \\textbf{  Jarque-Bera (JB):  } &    0.042  \\\\\n",
       "\\textbf{Skew:}          & -0.046 & \\textbf{  Prob(JB):          } &    0.979  \\\\\n",
       "\\textbf{Kurtosis:}      &  3.038 & \\textbf{  Cond. No.          } &     4.65  \\\\\n",
       "\\bottomrule\n",
       "\\end{tabular}\n",
       "%\\caption{OLS Regression Results}\n",
       "\\end{center}\n",
       "\n",
       "Notes: \\newline\n",
       " [1] Standard Errors assume that the covariance matrix of the errors is correctly specified."
      ],
      "text/plain": [
       "<class 'statsmodels.iolib.summary.Summary'>\n",
       "\"\"\"\n",
       "                            OLS Regression Results                            \n",
       "==============================================================================\n",
       "Dep. Variable:                      y   R-squared:                       0.281\n",
       "Model:                            OLS   Adj. R-squared:                  0.274\n",
       "Method:                 Least Squares   F-statistic:                     38.39\n",
       "Date:                Wed, 20 Mar 2024   Prob (F-statistic):           1.37e-08\n",
       "Time:                        10:02:56   Log-Likelihood:                -131.28\n",
       "No. Observations:                 100   AIC:                             266.6\n",
       "Df Residuals:                      98   BIC:                             271.8\n",
       "Df Model:                           1                                         \n",
       "Covariance Type:            nonrobust                                         \n",
       "==============================================================================\n",
       "                 coef    std err          t      P>|t|      [0.025      0.975]\n",
       "------------------------------------------------------------------------------\n",
       "intercept      1.9371      0.189     10.242      0.000       1.562       2.312\n",
       "x1             2.0771      0.335      6.196      0.000       1.412       2.742\n",
       "==============================================================================\n",
       "Omnibus:                        0.204   Durbin-Watson:                   1.931\n",
       "Prob(Omnibus):                  0.903   Jarque-Bera (JB):                0.042\n",
       "Skew:                          -0.046   Prob(JB):                        0.979\n",
       "Kurtosis:                       3.038   Cond. No.                         4.65\n",
       "==============================================================================\n",
       "\n",
       "Notes:\n",
       "[1] Standard Errors assume that the covariance matrix of the errors is correctly specified.\n",
       "\"\"\""
      ]
     },
     "execution_count": 43,
     "metadata": {},
     "output_type": "execute_result"
    }
   ],
   "source": [
    "design=MS([\"x1\"])\n",
    "X =design.fit_transform(df)\n",
    "# y = df['y']\n",
    "#model fitting\n",
    "model = sm.OLS(y, X)\n",
    "results = model.fit()\n",
    "results.summary()"
   ]
  },
  {
   "cell_type": "markdown",
   "id": "e3109c69-1edc-4836-9fd3-f3165d18c8b6",
   "metadata": {},
   "source": [
    "We reject the null hypothesis because coefficient of x1 is not null"
   ]
  },
  {
   "cell_type": "markdown",
   "id": "5e137b5d-5525-422f-bfbf-7567abe5f375",
   "metadata": {},
   "source": [
    "## Question 14e"
   ]
  },
  {
   "cell_type": "code",
   "execution_count": 44,
   "id": "cb9f5524-d89e-4e5c-9496-c724efb5f609",
   "metadata": {},
   "outputs": [
    {
     "data": {
      "text/html": [
       "<table class=\"simpletable\">\n",
       "<caption>OLS Regression Results</caption>\n",
       "<tr>\n",
       "  <th>Dep. Variable:</th>            <td>y</td>        <th>  R-squared:         </th> <td>   0.222</td>\n",
       "</tr>\n",
       "<tr>\n",
       "  <th>Model:</th>                   <td>OLS</td>       <th>  Adj. R-squared:    </th> <td>   0.214</td>\n",
       "</tr>\n",
       "<tr>\n",
       "  <th>Method:</th>             <td>Least Squares</td>  <th>  F-statistic:       </th> <td>   27.99</td>\n",
       "</tr>\n",
       "<tr>\n",
       "  <th>Date:</th>             <td>Wed, 20 Mar 2024</td> <th>  Prob (F-statistic):</th> <td>7.43e-07</td>\n",
       "</tr>\n",
       "<tr>\n",
       "  <th>Time:</th>                 <td>10:02:56</td>     <th>  Log-Likelihood:    </th> <td> -135.24</td>\n",
       "</tr>\n",
       "<tr>\n",
       "  <th>No. Observations:</th>      <td>   100</td>      <th>  AIC:               </th> <td>   274.5</td>\n",
       "</tr>\n",
       "<tr>\n",
       "  <th>Df Residuals:</th>          <td>    98</td>      <th>  BIC:               </th> <td>   279.7</td>\n",
       "</tr>\n",
       "<tr>\n",
       "  <th>Df Model:</th>              <td>     1</td>      <th>                     </th>     <td> </td>   \n",
       "</tr>\n",
       "<tr>\n",
       "  <th>Covariance Type:</th>      <td>nonrobust</td>    <th>                     </th>     <td> </td>   \n",
       "</tr>\n",
       "</table>\n",
       "<table class=\"simpletable\">\n",
       "<tr>\n",
       "      <td></td>         <th>coef</th>     <th>std err</th>      <th>t</th>      <th>P>|t|</th>  <th>[0.025</th>    <th>0.975]</th>  \n",
       "</tr>\n",
       "<tr>\n",
       "  <th>intercept</th> <td>    2.3239</td> <td>    0.154</td> <td>   15.124</td> <td> 0.000</td> <td>    2.019</td> <td>    2.629</td>\n",
       "</tr>\n",
       "<tr>\n",
       "  <th>x2</th>        <td>    2.9103</td> <td>    0.550</td> <td>    5.291</td> <td> 0.000</td> <td>    1.819</td> <td>    4.002</td>\n",
       "</tr>\n",
       "</table>\n",
       "<table class=\"simpletable\">\n",
       "<tr>\n",
       "  <th>Omnibus:</th>       <td> 0.191</td> <th>  Durbin-Watson:     </th> <td>   1.943</td>\n",
       "</tr>\n",
       "<tr>\n",
       "  <th>Prob(Omnibus):</th> <td> 0.909</td> <th>  Jarque-Bera (JB):  </th> <td>   0.373</td>\n",
       "</tr>\n",
       "<tr>\n",
       "  <th>Skew:</th>          <td>-0.034</td> <th>  Prob(JB):          </th> <td>   0.830</td>\n",
       "</tr>\n",
       "<tr>\n",
       "  <th>Kurtosis:</th>      <td> 2.709</td> <th>  Cond. No.          </th> <td>    6.11</td>\n",
       "</tr>\n",
       "</table><br/><br/>Notes:<br/>[1] Standard Errors assume that the covariance matrix of the errors is correctly specified."
      ],
      "text/latex": [
       "\\begin{center}\n",
       "\\begin{tabular}{lclc}\n",
       "\\toprule\n",
       "\\textbf{Dep. Variable:}    &        y         & \\textbf{  R-squared:         } &     0.222   \\\\\n",
       "\\textbf{Model:}            &       OLS        & \\textbf{  Adj. R-squared:    } &     0.214   \\\\\n",
       "\\textbf{Method:}           &  Least Squares   & \\textbf{  F-statistic:       } &     27.99   \\\\\n",
       "\\textbf{Date:}             & Wed, 20 Mar 2024 & \\textbf{  Prob (F-statistic):} &  7.43e-07   \\\\\n",
       "\\textbf{Time:}             &     10:02:56     & \\textbf{  Log-Likelihood:    } &   -135.24   \\\\\n",
       "\\textbf{No. Observations:} &         100      & \\textbf{  AIC:               } &     274.5   \\\\\n",
       "\\textbf{Df Residuals:}     &          98      & \\textbf{  BIC:               } &     279.7   \\\\\n",
       "\\textbf{Df Model:}         &           1      & \\textbf{                     } &             \\\\\n",
       "\\textbf{Covariance Type:}  &    nonrobust     & \\textbf{                     } &             \\\\\n",
       "\\bottomrule\n",
       "\\end{tabular}\n",
       "\\begin{tabular}{lcccccc}\n",
       "                   & \\textbf{coef} & \\textbf{std err} & \\textbf{t} & \\textbf{P$> |$t$|$} & \\textbf{[0.025} & \\textbf{0.975]}  \\\\\n",
       "\\midrule\n",
       "\\textbf{intercept} &       2.3239  &        0.154     &    15.124  &         0.000        &        2.019    &        2.629     \\\\\n",
       "\\textbf{x2}        &       2.9103  &        0.550     &     5.291  &         0.000        &        1.819    &        4.002     \\\\\n",
       "\\bottomrule\n",
       "\\end{tabular}\n",
       "\\begin{tabular}{lclc}\n",
       "\\textbf{Omnibus:}       &  0.191 & \\textbf{  Durbin-Watson:     } &    1.943  \\\\\n",
       "\\textbf{Prob(Omnibus):} &  0.909 & \\textbf{  Jarque-Bera (JB):  } &    0.373  \\\\\n",
       "\\textbf{Skew:}          & -0.034 & \\textbf{  Prob(JB):          } &    0.830  \\\\\n",
       "\\textbf{Kurtosis:}      &  2.709 & \\textbf{  Cond. No.          } &     6.11  \\\\\n",
       "\\bottomrule\n",
       "\\end{tabular}\n",
       "%\\caption{OLS Regression Results}\n",
       "\\end{center}\n",
       "\n",
       "Notes: \\newline\n",
       " [1] Standard Errors assume that the covariance matrix of the errors is correctly specified."
      ],
      "text/plain": [
       "<class 'statsmodels.iolib.summary.Summary'>\n",
       "\"\"\"\n",
       "                            OLS Regression Results                            \n",
       "==============================================================================\n",
       "Dep. Variable:                      y   R-squared:                       0.222\n",
       "Model:                            OLS   Adj. R-squared:                  0.214\n",
       "Method:                 Least Squares   F-statistic:                     27.99\n",
       "Date:                Wed, 20 Mar 2024   Prob (F-statistic):           7.43e-07\n",
       "Time:                        10:02:56   Log-Likelihood:                -135.24\n",
       "No. Observations:                 100   AIC:                             274.5\n",
       "Df Residuals:                      98   BIC:                             279.7\n",
       "Df Model:                           1                                         \n",
       "Covariance Type:            nonrobust                                         \n",
       "==============================================================================\n",
       "                 coef    std err          t      P>|t|      [0.025      0.975]\n",
       "------------------------------------------------------------------------------\n",
       "intercept      2.3239      0.154     15.124      0.000       2.019       2.629\n",
       "x2             2.9103      0.550      5.291      0.000       1.819       4.002\n",
       "==============================================================================\n",
       "Omnibus:                        0.191   Durbin-Watson:                   1.943\n",
       "Prob(Omnibus):                  0.909   Jarque-Bera (JB):                0.373\n",
       "Skew:                          -0.034   Prob(JB):                        0.830\n",
       "Kurtosis:                       2.709   Cond. No.                         6.11\n",
       "==============================================================================\n",
       "\n",
       "Notes:\n",
       "[1] Standard Errors assume that the covariance matrix of the errors is correctly specified.\n",
       "\"\"\""
      ]
     },
     "execution_count": 44,
     "metadata": {},
     "output_type": "execute_result"
    }
   ],
   "source": [
    "design=MS([\"x2\"])\n",
    "X =design.fit_transform(df)\n",
    "# y = df['y']\n",
    "#model fitting\n",
    "model = sm.OLS(y, X)\n",
    "results = model.fit()\n",
    "#getting summary of our result\n",
    "results.summary()"
   ]
  },
  {
   "cell_type": "markdown",
   "id": "25057410-37d5-47f4-b66c-5259641dfe6b",
   "metadata": {},
   "source": [
    "We reject the null hypothesis as coefficient of x2 is non zero.\n"
   ]
  },
  {
   "cell_type": "markdown",
   "id": "bf0bfe19-bb58-4734-a020-fadf2382c1a9",
   "metadata": {},
   "source": [
    " Question 14f"
   ]
  },
  {
   "cell_type": "markdown",
   "id": "33ce84a5-ae69-4381-9859-c0d4c94a3e1c",
   "metadata": {},
   "source": [
    "Yes,there is a contradiction between these results . This is becuase of the corelation of these two variable x1 and x2. As we see in multiple linear regression the effect of x2 is minimum on y ."
   ]
  },
  {
   "cell_type": "markdown",
   "id": "127e74c6-2bdf-4649-9e28-9731d68ce3f7",
   "metadata": {},
   "source": [
    "Question 14g"
   ]
  },
  {
   "cell_type": "code",
   "execution_count": 45,
   "id": "14dfeb39-f712-4fb5-b053-5ae575b29311",
   "metadata": {},
   "outputs": [],
   "source": [
    "x1 = np.concatenate([x1, [0.1]])\n",
    "x2 = np.concatenate([x2, [0.8]])\n",
    "y = np.concatenate([y, [6]])\n",
    "new_df=pd.DataFrame({\"x1\":x1,\"x2\":x2})"
   ]
  },
  {
   "cell_type": "code",
   "execution_count": 46,
   "id": "231c968a-53b2-45b9-9931-8d4d6aafa34e",
   "metadata": {},
   "outputs": [
    {
     "data": {
      "text/html": [
       "<table class=\"simpletable\">\n",
       "<caption>OLS Regression Results</caption>\n",
       "<tr>\n",
       "  <th>Dep. Variable:</th>            <td>y</td>        <th>  R-squared:         </th> <td>   0.292</td>\n",
       "</tr>\n",
       "<tr>\n",
       "  <th>Model:</th>                   <td>OLS</td>       <th>  Adj. R-squared:    </th> <td>   0.277</td>\n",
       "</tr>\n",
       "<tr>\n",
       "  <th>Method:</th>             <td>Least Squares</td>  <th>  F-statistic:       </th> <td>   20.17</td>\n",
       "</tr>\n",
       "<tr>\n",
       "  <th>Date:</th>             <td>Wed, 20 Mar 2024</td> <th>  Prob (F-statistic):</th> <td>4.60e-08</td>\n",
       "</tr>\n",
       "<tr>\n",
       "  <th>Time:</th>                 <td>10:02:56</td>     <th>  Log-Likelihood:    </th> <td> -135.30</td>\n",
       "</tr>\n",
       "<tr>\n",
       "  <th>No. Observations:</th>      <td>   101</td>      <th>  AIC:               </th> <td>   276.6</td>\n",
       "</tr>\n",
       "<tr>\n",
       "  <th>Df Residuals:</th>          <td>    98</td>      <th>  BIC:               </th> <td>   284.5</td>\n",
       "</tr>\n",
       "<tr>\n",
       "  <th>Df Model:</th>              <td>     2</td>      <th>                     </th>     <td> </td>   \n",
       "</tr>\n",
       "<tr>\n",
       "  <th>Covariance Type:</th>      <td>nonrobust</td>    <th>                     </th>     <td> </td>   \n",
       "</tr>\n",
       "</table>\n",
       "<table class=\"simpletable\">\n",
       "<tr>\n",
       "      <td></td>         <th>coef</th>     <th>std err</th>      <th>t</th>      <th>P>|t|</th>  <th>[0.025</th>    <th>0.975]</th>  \n",
       "</tr>\n",
       "<tr>\n",
       "  <th>intercept</th> <td>    2.0618</td> <td>    0.192</td> <td>   10.720</td> <td> 0.000</td> <td>    1.680</td> <td>    2.443</td>\n",
       "</tr>\n",
       "<tr>\n",
       "  <th>x1</th>        <td>    0.8575</td> <td>    0.466</td> <td>    1.838</td> <td> 0.069</td> <td>   -0.068</td> <td>    1.783</td>\n",
       "</tr>\n",
       "<tr>\n",
       "  <th>x2</th>        <td>    2.2663</td> <td>    0.705</td> <td>    3.216</td> <td> 0.002</td> <td>    0.868</td> <td>    3.665</td>\n",
       "</tr>\n",
       "</table>\n",
       "<table class=\"simpletable\">\n",
       "<tr>\n",
       "  <th>Omnibus:</th>       <td> 0.139</td> <th>  Durbin-Watson:     </th> <td>   1.894</td>\n",
       "</tr>\n",
       "<tr>\n",
       "  <th>Prob(Omnibus):</th> <td> 0.933</td> <th>  Jarque-Bera (JB):  </th> <td>   0.320</td>\n",
       "</tr>\n",
       "<tr>\n",
       "  <th>Skew:</th>          <td> 0.013</td> <th>  Prob(JB):          </th> <td>   0.852</td>\n",
       "</tr>\n",
       "<tr>\n",
       "  <th>Kurtosis:</th>      <td> 2.725</td> <th>  Cond. No.          </th> <td>    9.68</td>\n",
       "</tr>\n",
       "</table><br/><br/>Notes:<br/>[1] Standard Errors assume that the covariance matrix of the errors is correctly specified."
      ],
      "text/latex": [
       "\\begin{center}\n",
       "\\begin{tabular}{lclc}\n",
       "\\toprule\n",
       "\\textbf{Dep. Variable:}    &        y         & \\textbf{  R-squared:         } &     0.292   \\\\\n",
       "\\textbf{Model:}            &       OLS        & \\textbf{  Adj. R-squared:    } &     0.277   \\\\\n",
       "\\textbf{Method:}           &  Least Squares   & \\textbf{  F-statistic:       } &     20.17   \\\\\n",
       "\\textbf{Date:}             & Wed, 20 Mar 2024 & \\textbf{  Prob (F-statistic):} &  4.60e-08   \\\\\n",
       "\\textbf{Time:}             &     10:02:56     & \\textbf{  Log-Likelihood:    } &   -135.30   \\\\\n",
       "\\textbf{No. Observations:} &         101      & \\textbf{  AIC:               } &     276.6   \\\\\n",
       "\\textbf{Df Residuals:}     &          98      & \\textbf{  BIC:               } &     284.5   \\\\\n",
       "\\textbf{Df Model:}         &           2      & \\textbf{                     } &             \\\\\n",
       "\\textbf{Covariance Type:}  &    nonrobust     & \\textbf{                     } &             \\\\\n",
       "\\bottomrule\n",
       "\\end{tabular}\n",
       "\\begin{tabular}{lcccccc}\n",
       "                   & \\textbf{coef} & \\textbf{std err} & \\textbf{t} & \\textbf{P$> |$t$|$} & \\textbf{[0.025} & \\textbf{0.975]}  \\\\\n",
       "\\midrule\n",
       "\\textbf{intercept} &       2.0618  &        0.192     &    10.720  &         0.000        &        1.680    &        2.443     \\\\\n",
       "\\textbf{x1}        &       0.8575  &        0.466     &     1.838  &         0.069        &       -0.068    &        1.783     \\\\\n",
       "\\textbf{x2}        &       2.2663  &        0.705     &     3.216  &         0.002        &        0.868    &        3.665     \\\\\n",
       "\\bottomrule\n",
       "\\end{tabular}\n",
       "\\begin{tabular}{lclc}\n",
       "\\textbf{Omnibus:}       &  0.139 & \\textbf{  Durbin-Watson:     } &    1.894  \\\\\n",
       "\\textbf{Prob(Omnibus):} &  0.933 & \\textbf{  Jarque-Bera (JB):  } &    0.320  \\\\\n",
       "\\textbf{Skew:}          &  0.013 & \\textbf{  Prob(JB):          } &    0.852  \\\\\n",
       "\\textbf{Kurtosis:}      &  2.725 & \\textbf{  Cond. No.          } &     9.68  \\\\\n",
       "\\bottomrule\n",
       "\\end{tabular}\n",
       "%\\caption{OLS Regression Results}\n",
       "\\end{center}\n",
       "\n",
       "Notes: \\newline\n",
       " [1] Standard Errors assume that the covariance matrix of the errors is correctly specified."
      ],
      "text/plain": [
       "<class 'statsmodels.iolib.summary.Summary'>\n",
       "\"\"\"\n",
       "                            OLS Regression Results                            \n",
       "==============================================================================\n",
       "Dep. Variable:                      y   R-squared:                       0.292\n",
       "Model:                            OLS   Adj. R-squared:                  0.277\n",
       "Method:                 Least Squares   F-statistic:                     20.17\n",
       "Date:                Wed, 20 Mar 2024   Prob (F-statistic):           4.60e-08\n",
       "Time:                        10:02:56   Log-Likelihood:                -135.30\n",
       "No. Observations:                 101   AIC:                             276.6\n",
       "Df Residuals:                      98   BIC:                             284.5\n",
       "Df Model:                           2                                         \n",
       "Covariance Type:            nonrobust                                         \n",
       "==============================================================================\n",
       "                 coef    std err          t      P>|t|      [0.025      0.975]\n",
       "------------------------------------------------------------------------------\n",
       "intercept      2.0618      0.192     10.720      0.000       1.680       2.443\n",
       "x1             0.8575      0.466      1.838      0.069      -0.068       1.783\n",
       "x2             2.2663      0.705      3.216      0.002       0.868       3.665\n",
       "==============================================================================\n",
       "Omnibus:                        0.139   Durbin-Watson:                   1.894\n",
       "Prob(Omnibus):                  0.933   Jarque-Bera (JB):                0.320\n",
       "Skew:                           0.013   Prob(JB):                        0.852\n",
       "Kurtosis:                       2.725   Cond. No.                         9.68\n",
       "==============================================================================\n",
       "\n",
       "Notes:\n",
       "[1] Standard Errors assume that the covariance matrix of the errors is correctly specified.\n",
       "\"\"\""
      ]
     },
     "execution_count": 46,
     "metadata": {},
     "output_type": "execute_result"
    }
   ],
   "source": [
    "design=MS([\"x1\",\"x2\"])\n",
    "X =design.fit_transform(new_df)\n",
    "\n",
    "#model fitting\n",
    "model = sm.OLS(y, X)\n",
    "results = model.fit()\n",
    "results.summary()"
   ]
  },
  {
   "cell_type": "code",
   "execution_count": 47,
   "id": "db949d05-effa-4f87-92fc-fe756ab3a352",
   "metadata": {},
   "outputs": [
    {
     "data": {
      "text/html": [
       "<table class=\"simpletable\">\n",
       "<caption>OLS Regression Results</caption>\n",
       "<tr>\n",
       "  <th>Dep. Variable:</th>            <td>y</td>        <th>  R-squared:         </th> <td>   0.217</td>\n",
       "</tr>\n",
       "<tr>\n",
       "  <th>Model:</th>                   <td>OLS</td>       <th>  Adj. R-squared:    </th> <td>   0.209</td>\n",
       "</tr>\n",
       "<tr>\n",
       "  <th>Method:</th>             <td>Least Squares</td>  <th>  F-statistic:       </th> <td>   27.42</td>\n",
       "</tr>\n",
       "<tr>\n",
       "  <th>Date:</th>             <td>Wed, 20 Mar 2024</td> <th>  Prob (F-statistic):</th> <td>9.23e-07</td>\n",
       "</tr>\n",
       "<tr>\n",
       "  <th>Time:</th>                 <td>10:02:56</td>     <th>  Log-Likelihood:    </th> <td> -140.37</td>\n",
       "</tr>\n",
       "<tr>\n",
       "  <th>No. Observations:</th>      <td>   101</td>      <th>  AIC:               </th> <td>   284.7</td>\n",
       "</tr>\n",
       "<tr>\n",
       "  <th>Df Residuals:</th>          <td>    99</td>      <th>  BIC:               </th> <td>   290.0</td>\n",
       "</tr>\n",
       "<tr>\n",
       "  <th>Df Model:</th>              <td>     1</td>      <th>                     </th>     <td> </td>   \n",
       "</tr>\n",
       "<tr>\n",
       "  <th>Covariance Type:</th>      <td>nonrobust</td>    <th>                     </th>     <td> </td>   \n",
       "</tr>\n",
       "</table>\n",
       "<table class=\"simpletable\">\n",
       "<tr>\n",
       "      <td></td>         <th>coef</th>     <th>std err</th>      <th>t</th>      <th>P>|t|</th>  <th>[0.025</th>    <th>0.975]</th>  \n",
       "</tr>\n",
       "<tr>\n",
       "  <th>intercept</th> <td>    2.0739</td> <td>    0.201</td> <td>   10.310</td> <td> 0.000</td> <td>    1.675</td> <td>    2.473</td>\n",
       "</tr>\n",
       "<tr>\n",
       "  <th>x1</th>        <td>    1.8760</td> <td>    0.358</td> <td>    5.236</td> <td> 0.000</td> <td>    1.165</td> <td>    2.587</td>\n",
       "</tr>\n",
       "</table>\n",
       "<table class=\"simpletable\">\n",
       "<tr>\n",
       "  <th>Omnibus:</th>       <td> 8.232</td> <th>  Durbin-Watson:     </th> <td>   1.636</td>\n",
       "</tr>\n",
       "<tr>\n",
       "  <th>Prob(Omnibus):</th> <td> 0.016</td> <th>  Jarque-Bera (JB):  </th> <td>  10.781</td>\n",
       "</tr>\n",
       "<tr>\n",
       "  <th>Skew:</th>          <td> 0.396</td> <th>  Prob(JB):          </th> <td> 0.00456</td>\n",
       "</tr>\n",
       "<tr>\n",
       "  <th>Kurtosis:</th>      <td> 4.391</td> <th>  Cond. No.          </th> <td>    4.61</td>\n",
       "</tr>\n",
       "</table><br/><br/>Notes:<br/>[1] Standard Errors assume that the covariance matrix of the errors is correctly specified."
      ],
      "text/latex": [
       "\\begin{center}\n",
       "\\begin{tabular}{lclc}\n",
       "\\toprule\n",
       "\\textbf{Dep. Variable:}    &        y         & \\textbf{  R-squared:         } &     0.217   \\\\\n",
       "\\textbf{Model:}            &       OLS        & \\textbf{  Adj. R-squared:    } &     0.209   \\\\\n",
       "\\textbf{Method:}           &  Least Squares   & \\textbf{  F-statistic:       } &     27.42   \\\\\n",
       "\\textbf{Date:}             & Wed, 20 Mar 2024 & \\textbf{  Prob (F-statistic):} &  9.23e-07   \\\\\n",
       "\\textbf{Time:}             &     10:02:56     & \\textbf{  Log-Likelihood:    } &   -140.37   \\\\\n",
       "\\textbf{No. Observations:} &         101      & \\textbf{  AIC:               } &     284.7   \\\\\n",
       "\\textbf{Df Residuals:}     &          99      & \\textbf{  BIC:               } &     290.0   \\\\\n",
       "\\textbf{Df Model:}         &           1      & \\textbf{                     } &             \\\\\n",
       "\\textbf{Covariance Type:}  &    nonrobust     & \\textbf{                     } &             \\\\\n",
       "\\bottomrule\n",
       "\\end{tabular}\n",
       "\\begin{tabular}{lcccccc}\n",
       "                   & \\textbf{coef} & \\textbf{std err} & \\textbf{t} & \\textbf{P$> |$t$|$} & \\textbf{[0.025} & \\textbf{0.975]}  \\\\\n",
       "\\midrule\n",
       "\\textbf{intercept} &       2.0739  &        0.201     &    10.310  &         0.000        &        1.675    &        2.473     \\\\\n",
       "\\textbf{x1}        &       1.8760  &        0.358     &     5.236  &         0.000        &        1.165    &        2.587     \\\\\n",
       "\\bottomrule\n",
       "\\end{tabular}\n",
       "\\begin{tabular}{lclc}\n",
       "\\textbf{Omnibus:}       &  8.232 & \\textbf{  Durbin-Watson:     } &    1.636  \\\\\n",
       "\\textbf{Prob(Omnibus):} &  0.016 & \\textbf{  Jarque-Bera (JB):  } &   10.781  \\\\\n",
       "\\textbf{Skew:}          &  0.396 & \\textbf{  Prob(JB):          } &  0.00456  \\\\\n",
       "\\textbf{Kurtosis:}      &  4.391 & \\textbf{  Cond. No.          } &     4.61  \\\\\n",
       "\\bottomrule\n",
       "\\end{tabular}\n",
       "%\\caption{OLS Regression Results}\n",
       "\\end{center}\n",
       "\n",
       "Notes: \\newline\n",
       " [1] Standard Errors assume that the covariance matrix of the errors is correctly specified."
      ],
      "text/plain": [
       "<class 'statsmodels.iolib.summary.Summary'>\n",
       "\"\"\"\n",
       "                            OLS Regression Results                            \n",
       "==============================================================================\n",
       "Dep. Variable:                      y   R-squared:                       0.217\n",
       "Model:                            OLS   Adj. R-squared:                  0.209\n",
       "Method:                 Least Squares   F-statistic:                     27.42\n",
       "Date:                Wed, 20 Mar 2024   Prob (F-statistic):           9.23e-07\n",
       "Time:                        10:02:56   Log-Likelihood:                -140.37\n",
       "No. Observations:                 101   AIC:                             284.7\n",
       "Df Residuals:                      99   BIC:                             290.0\n",
       "Df Model:                           1                                         \n",
       "Covariance Type:            nonrobust                                         \n",
       "==============================================================================\n",
       "                 coef    std err          t      P>|t|      [0.025      0.975]\n",
       "------------------------------------------------------------------------------\n",
       "intercept      2.0739      0.201     10.310      0.000       1.675       2.473\n",
       "x1             1.8760      0.358      5.236      0.000       1.165       2.587\n",
       "==============================================================================\n",
       "Omnibus:                        8.232   Durbin-Watson:                   1.636\n",
       "Prob(Omnibus):                  0.016   Jarque-Bera (JB):               10.781\n",
       "Skew:                           0.396   Prob(JB):                      0.00456\n",
       "Kurtosis:                       4.391   Cond. No.                         4.61\n",
       "==============================================================================\n",
       "\n",
       "Notes:\n",
       "[1] Standard Errors assume that the covariance matrix of the errors is correctly specified.\n",
       "\"\"\""
      ]
     },
     "execution_count": 47,
     "metadata": {},
     "output_type": "execute_result"
    }
   ],
   "source": [
    "#giving predictor and responce to the model \n",
    "design=MS([\"x1\"])\n",
    "X =design.fit_transform(new_df)\n",
    "\n",
    "#model fitting\n",
    "model = sm.OLS(y, X)\n",
    "results = model.fit()\n",
    "results.summary()"
   ]
  },
  {
   "cell_type": "code",
   "execution_count": 48,
   "id": "21cad707-03d9-41d7-af85-74e267d5a0d3",
   "metadata": {},
   "outputs": [
    {
     "data": {
      "text/html": [
       "<table class=\"simpletable\">\n",
       "<caption>OLS Regression Results</caption>\n",
       "<tr>\n",
       "  <th>Dep. Variable:</th>            <td>y</td>        <th>  R-squared:         </th> <td>   0.267</td>\n",
       "</tr>\n",
       "<tr>\n",
       "  <th>Model:</th>                   <td>OLS</td>       <th>  Adj. R-squared:    </th> <td>   0.260</td>\n",
       "</tr>\n",
       "<tr>\n",
       "  <th>Method:</th>             <td>Least Squares</td>  <th>  F-statistic:       </th> <td>   36.10</td>\n",
       "</tr>\n",
       "<tr>\n",
       "  <th>Date:</th>             <td>Wed, 20 Mar 2024</td> <th>  Prob (F-statistic):</th> <td>3.13e-08</td>\n",
       "</tr>\n",
       "<tr>\n",
       "  <th>Time:</th>                 <td>10:02:56</td>     <th>  Log-Likelihood:    </th> <td> -137.01</td>\n",
       "</tr>\n",
       "<tr>\n",
       "  <th>No. Observations:</th>      <td>   101</td>      <th>  AIC:               </th> <td>   278.0</td>\n",
       "</tr>\n",
       "<tr>\n",
       "  <th>Df Residuals:</th>          <td>    99</td>      <th>  BIC:               </th> <td>   283.3</td>\n",
       "</tr>\n",
       "<tr>\n",
       "  <th>Df Model:</th>              <td>     1</td>      <th>                     </th>     <td> </td>   \n",
       "</tr>\n",
       "<tr>\n",
       "  <th>Covariance Type:</th>      <td>nonrobust</td>    <th>                     </th>     <td> </td>   \n",
       "</tr>\n",
       "</table>\n",
       "<table class=\"simpletable\">\n",
       "<tr>\n",
       "      <td></td>         <th>coef</th>     <th>std err</th>      <th>t</th>      <th>P>|t|</th>  <th>[0.025</th>    <th>0.975]</th>  \n",
       "</tr>\n",
       "<tr>\n",
       "  <th>intercept</th> <td>    2.2840</td> <td>    0.151</td> <td>   15.088</td> <td> 0.000</td> <td>    1.984</td> <td>    2.584</td>\n",
       "</tr>\n",
       "<tr>\n",
       "  <th>x2</th>        <td>    3.1458</td> <td>    0.524</td> <td>    6.008</td> <td> 0.000</td> <td>    2.107</td> <td>    4.185</td>\n",
       "</tr>\n",
       "</table>\n",
       "<table class=\"simpletable\">\n",
       "<tr>\n",
       "  <th>Omnibus:</th>       <td> 0.495</td> <th>  Durbin-Watson:     </th> <td>   1.939</td>\n",
       "</tr>\n",
       "<tr>\n",
       "  <th>Prob(Omnibus):</th> <td> 0.781</td> <th>  Jarque-Bera (JB):  </th> <td>   0.631</td>\n",
       "</tr>\n",
       "<tr>\n",
       "  <th>Skew:</th>          <td>-0.041</td> <th>  Prob(JB):          </th> <td>   0.729</td>\n",
       "</tr>\n",
       "<tr>\n",
       "  <th>Kurtosis:</th>      <td> 2.621</td> <th>  Cond. No.          </th> <td>    5.84</td>\n",
       "</tr>\n",
       "</table><br/><br/>Notes:<br/>[1] Standard Errors assume that the covariance matrix of the errors is correctly specified."
      ],
      "text/latex": [
       "\\begin{center}\n",
       "\\begin{tabular}{lclc}\n",
       "\\toprule\n",
       "\\textbf{Dep. Variable:}    &        y         & \\textbf{  R-squared:         } &     0.267   \\\\\n",
       "\\textbf{Model:}            &       OLS        & \\textbf{  Adj. R-squared:    } &     0.260   \\\\\n",
       "\\textbf{Method:}           &  Least Squares   & \\textbf{  F-statistic:       } &     36.10   \\\\\n",
       "\\textbf{Date:}             & Wed, 20 Mar 2024 & \\textbf{  Prob (F-statistic):} &  3.13e-08   \\\\\n",
       "\\textbf{Time:}             &     10:02:56     & \\textbf{  Log-Likelihood:    } &   -137.01   \\\\\n",
       "\\textbf{No. Observations:} &         101      & \\textbf{  AIC:               } &     278.0   \\\\\n",
       "\\textbf{Df Residuals:}     &          99      & \\textbf{  BIC:               } &     283.3   \\\\\n",
       "\\textbf{Df Model:}         &           1      & \\textbf{                     } &             \\\\\n",
       "\\textbf{Covariance Type:}  &    nonrobust     & \\textbf{                     } &             \\\\\n",
       "\\bottomrule\n",
       "\\end{tabular}\n",
       "\\begin{tabular}{lcccccc}\n",
       "                   & \\textbf{coef} & \\textbf{std err} & \\textbf{t} & \\textbf{P$> |$t$|$} & \\textbf{[0.025} & \\textbf{0.975]}  \\\\\n",
       "\\midrule\n",
       "\\textbf{intercept} &       2.2840  &        0.151     &    15.088  &         0.000        &        1.984    &        2.584     \\\\\n",
       "\\textbf{x2}        &       3.1458  &        0.524     &     6.008  &         0.000        &        2.107    &        4.185     \\\\\n",
       "\\bottomrule\n",
       "\\end{tabular}\n",
       "\\begin{tabular}{lclc}\n",
       "\\textbf{Omnibus:}       &  0.495 & \\textbf{  Durbin-Watson:     } &    1.939  \\\\\n",
       "\\textbf{Prob(Omnibus):} &  0.781 & \\textbf{  Jarque-Bera (JB):  } &    0.631  \\\\\n",
       "\\textbf{Skew:}          & -0.041 & \\textbf{  Prob(JB):          } &    0.729  \\\\\n",
       "\\textbf{Kurtosis:}      &  2.621 & \\textbf{  Cond. No.          } &     5.84  \\\\\n",
       "\\bottomrule\n",
       "\\end{tabular}\n",
       "%\\caption{OLS Regression Results}\n",
       "\\end{center}\n",
       "\n",
       "Notes: \\newline\n",
       " [1] Standard Errors assume that the covariance matrix of the errors is correctly specified."
      ],
      "text/plain": [
       "<class 'statsmodels.iolib.summary.Summary'>\n",
       "\"\"\"\n",
       "                            OLS Regression Results                            \n",
       "==============================================================================\n",
       "Dep. Variable:                      y   R-squared:                       0.267\n",
       "Model:                            OLS   Adj. R-squared:                  0.260\n",
       "Method:                 Least Squares   F-statistic:                     36.10\n",
       "Date:                Wed, 20 Mar 2024   Prob (F-statistic):           3.13e-08\n",
       "Time:                        10:02:56   Log-Likelihood:                -137.01\n",
       "No. Observations:                 101   AIC:                             278.0\n",
       "Df Residuals:                      99   BIC:                             283.3\n",
       "Df Model:                           1                                         \n",
       "Covariance Type:            nonrobust                                         \n",
       "==============================================================================\n",
       "                 coef    std err          t      P>|t|      [0.025      0.975]\n",
       "------------------------------------------------------------------------------\n",
       "intercept      2.2840      0.151     15.088      0.000       1.984       2.584\n",
       "x2             3.1458      0.524      6.008      0.000       2.107       4.185\n",
       "==============================================================================\n",
       "Omnibus:                        0.495   Durbin-Watson:                   1.939\n",
       "Prob(Omnibus):                  0.781   Jarque-Bera (JB):                0.631\n",
       "Skew:                          -0.041   Prob(JB):                        0.729\n",
       "Kurtosis:                       2.621   Cond. No.                         5.84\n",
       "==============================================================================\n",
       "\n",
       "Notes:\n",
       "[1] Standard Errors assume that the covariance matrix of the errors is correctly specified.\n",
       "\"\"\""
      ]
     },
     "execution_count": 48,
     "metadata": {},
     "output_type": "execute_result"
    }
   ],
   "source": [
    "design=MS([\"x2\"])\n",
    "X =design.fit_transform(new_df)\n",
    "\n",
    "#model fitting\n",
    "model = sm.OLS(y, X)\n",
    "results = model.fit()\n",
    "results.summary()"
   ]
  },
  {
   "cell_type": "code",
   "execution_count": 49,
   "id": "a6650997-c80b-413f-91ed-22084063ce04",
   "metadata": {},
   "outputs": [
    {
     "data": {
      "text/plain": [
       "Text(0, 0.5, 'X2')"
      ]
     },
     "execution_count": 49,
     "metadata": {},
     "output_type": "execute_result"
    },
    {
     "data": {
      "image/png": "[encoded data removed]",
      "text/plain": [
       "<Figure size 640x480 with 1 Axes>"
      ]
     },
     "metadata": {},
     "output_type": "display_data"
    }
   ],
   "source": [
    "#checking high leverage point by plotting x1 and x2\n",
    "ax = new_df.plot.scatter('x1', 'x2')\n",
    "\n",
    "ax.set_xlabel('X1')\n",
    "ax.set_ylabel('X2')\n"
   ]
  },
  {
   "cell_type": "markdown",
   "id": "df0f01af-0f40-4dbd-9034-dfee319151af",
   "metadata": {},
   "source": [
    "From this graph of predictor we see that there is a point that is out of range.So yes there is High leverage point ."
   ]
  },
  {
   "cell_type": "code",
   "execution_count": 50,
   "id": "af727daa-0ed4-4a79-91f0-564f16137477",
   "metadata": {},
   "outputs": [
    {
     "data": {
      "text/plain": [
       "100"
      ]
     },
     "execution_count": 50,
     "metadata": {},
     "output_type": "execute_result"
    },
    {
     "data": {
      "image/png": "[encoded data removed]",
      "text/plain": [
       "<Figure size 800x800 with 1 Axes>"
      ]
     },
     "metadata": {},
     "output_type": "display_data"
    }
   ],
   "source": [
    "#checking high leverage and outlier from graph\n",
    "infl = results.get_influence()\n",
    "ax = subplots(figsize=(8,8))[1]\n",
    "ax.scatter(np.arange(new_df.shape[0]), infl.hat_matrix_diag)\n",
    "ax.set_xlabel('Index')\n",
    "ax.set_ylabel('Leverage')\n",
    "np.argmax(infl.hat_matrix_diag)"
   ]
  },
  {
   "cell_type": "code",
   "execution_count": 51,
   "id": "5cd8c4da-61a9-4401-b614-edd392a39c60",
   "metadata": {},
   "outputs": [
    {
     "data": {
      "text/plain": [
       "Text(0, 0.5, 'y')"
      ]
     },
     "execution_count": 51,
     "metadata": {},
     "output_type": "execute_result"
    },
    {
     "data": {
      "image/png": "[encoded data removed]",
      "text/plain": [
       "<Figure size 640x480 with 1 Axes>"
      ]
     },
     "metadata": {},
     "output_type": "display_data"
    }
   ],
   "source": [
    "#plotting graph for x1 and y for finding outliers\n",
    "#Creating new Data Frame and adding x1 and y to it \n",
    "new_df=pd.DataFrame ({\"x1\":x1,\"y\":y})\n",
    "ax = new_df.plot.scatter('x1', 'y')\n",
    "#setting labels\n",
    "ax.set_xlabel('X1')\n",
    "ax.set_ylabel('y')\n"
   ]
  },
  {
   "cell_type": "code",
   "execution_count": null,
   "id": "00647d82-465d-4204-9838-c807d5154668",
   "metadata": {},
   "outputs": [],
   "source": []
  }
 ],
 "metadata": {
  "kernelspec": {
   "display_name": "Python 3 (ipykernel)",
   "language": "python",
   "name": "python3"
  },
  "language_info": {
   "codemirror_mode": {
    "name": "ipython",
    "version": 3
   },
   "file_extension": ".py",
   "mimetype": "text/x-python",
   "name": "python",
   "nbconvert_exporter": "python",
   "pygments_lexer": "ipython3",
   "version": "3.11.7"
  }
 },
 "nbformat": 4,
 "nbformat_minor": 5
}
